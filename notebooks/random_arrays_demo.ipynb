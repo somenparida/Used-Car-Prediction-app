{
 "cells": [
  {
   "cell_type": "markdown",
   "id": "cf3f4c73",
   "metadata": {},
   "source": [
    "# Random Arrays Demo\n",
    "\n",
    "This notebook demonstrates creating random arrays with NumPy and visualizing them with Matplotlib. It also shows reproducibility via seeds and basic array inspections."
   ]
  },
  {
   "cell_type": "code",
   "execution_count": null,
   "id": "c574d35e",
   "metadata": {},
   "outputs": [],
   "source": [
    "# Section: Import Required Libraries\n",
    "\n",
    "import numpy as np\n",
    "import matplotlib.pyplot as plt\n",
    "import seaborn as sns\n",
    "import pandas as pd\n",
    "\n",
    "print('NumPy:', np.__version__)\n",
    "print('Pandas:', pd.__version__)\n",
    "print('Matplotlib:', plt.matplotlib.__version__)\n",
    "print('Seaborn:', sns.__version__)\n",
    "\n",
    "# Configure inline plotting for notebooks\n",
    "%matplotlib inline\n",
    "\n",
    "# Reproducibility\n",
    "np.random.seed(42)"
   ]
  },
  {
   "cell_type": "code",
   "execution_count": null,
   "id": "7cb2972f",
   "metadata": {},
   "outputs": [],
   "source": [
    "# Section: Create Random Arrays (1D examples)\n",
    "\n",
    "# 1D: uniform [0,1)\n",
    "arr1 = np.random.rand(10)\n",
    "print('arr1 shape:', arr1.shape, 'dtype:', arr1.dtype)\n",
    "print(arr1)\n",
    "\n",
    "# 1D: standard normal\n",
    "arr2 = np.random.randn(10)\n",
    "print('\\narr2 mean, std:', arr2.mean(), arr2.std())\n",
    "\n",
    "# 1D: random integers\n",
    "arr3 = np.random.randint(0, 100, size=10)\n",
    "print('\\narr3:', arr3)"
   ]
  },
  {
   "cell_type": "code",
   "execution_count": null,
   "id": "fc86e281",
   "metadata": {},
   "outputs": [],
   "source": [
    "# 2D and 3D examples\n",
    "arr2d = np.random.rand(5,5)\n",
    "print('arr2d shape:', arr2d.shape)\n",
    "\n",
    "arr3d = np.random.rand(3,4,2)\n",
    "print('arr3d shape:', arr3d.shape)\n",
    "\n",
    "# Reshape example\n",
    "reshaped = arr3.reshape(-1,1)\n",
    "print('reshaped shape:', reshaped.shape)\n",
    "\n",
    "# Visualize 2D array\n",
    "plt.figure(figsize=(4,4))\n",
    "plt.title('2D array heatmap')\n",
    "plt.imshow(arr2d, cmap='viridis')\n",
    "plt.colorbar();"
   ]
  },
  {
   "cell_type": "code",
   "execution_count": null,
   "id": "fdda6f2c",
   "metadata": {},
   "outputs": [],
   "source": [
    "# Sampling and permutation\n",
    "arr = np.arange(20)\n",
    "choice = np.random.choice(arr, size=5, replace=False)\n",
    "perm = np.random.permutation(arr)\n",
    "print('choice:', choice)\n",
    "print('perm[:5]:', perm[:5])\n",
    "\n",
    "# Histogram of flattened 2D array\n",
    "plt.figure()\n",
    "plt.hist(arr2d.ravel(), bins=10)\n",
    "plt.title('Histogram of arr2d (flattened)')\n",
    "plt.show()"
   ]
  }
 ],
 "metadata": {
  "language_info": {
   "name": "python"
  }
 },
 "nbformat": 4,
 "nbformat_minor": 5
}
